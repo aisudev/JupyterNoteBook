{
 "cells": [
  {
   "cell_type": "markdown",
   "metadata": {
    "id": "JKoTOiG3y4MR"
   },
   "source": [
    "## Convolutional Neural Network (CNN)"
   ]
  },
  {
   "cell_type": "markdown",
   "metadata": {
    "id": "AQv1GPx5zcbw"
   },
   "source": [
    "### คือ neural network ชนิดนึงที่จำลองการมองเห็นโดยแบ่งรูปภาพเป็นเป็นพื้นที่ Pixel ย่อยๆเพื่อทำการวิเคราะห์ Image Metric\n",
    " - 2 x 2 คือ GrayScale หรือรูปภาพขาวดำ\n",
    " - 3 X 3 คือ Color นั่นเอง"
   ]
  },
  {
   "cell_type": "markdown",
   "metadata": {
    "id": "p296Xjgnwtim"
   },
   "source": [
    "### ซึ่งการทำ CNN จะมีวิธีการอยู่ 4 Step คือ"
   ]
  },
  {
   "cell_type": "markdown",
   "metadata": {
    "id": "UQLwZDRuiRFe"
   },
   "source": [
    "![alt text](https://i0.wp.com/developersbreach.com/wp-content/uploads/2020/08/cnn_banner.png?fit=1400%2C658&ssl=1)\n",
    "<br>\n",
    "(source: https://www.cusabio.com/statics/images/Sthttps://i0.wp.com/developersbreach.com/wp-content/uploads/2020/08/cnn_banner.png?fit=1400%2C658&ssl=1)"
   ]
  },
  {
   "cell_type": "markdown",
   "metadata": {
    "id": "cXlmZ3KkHp25"
   },
   "source": [
    "1. Convolutional: การทำคูณ matrix ระหว่าง Input img กับ Feature Detector ซึ่จะได้ผลลัพธ์ออกมาเป็น Feature Map โดยเรียกพวกนี้ว่า Convolutional Layer หลังจากนั้นจะทำการ Rectifier โดยใช้ ReLu\n",
    "\n",
    "   * จำลอง CNN ( https://poloclub.github.io/cnn-explainer/ )"
   ]
  },
  {
   "cell_type": "markdown",
   "metadata": {
    "id": "ktsNo3F3IXw7"
   },
   "source": [
    "2. MaxPooling: คือการดึงค่ามากที่สุดจาก Matrix ออกมาเพื่อสร้าง Pooled Feature Map"
   ]
  },
  {
   "cell_type": "markdown",
   "metadata": {
    "id": "egyKK9DEJGKm"
   },
   "source": [
    "3. Flatten: คือการทำให้ Pooled Feature Map เป็น 1 Dimension"
   ]
  },
  {
   "cell_type": "markdown",
   "metadata": {
    "id": "70ms3q15Jzus"
   },
   "source": [
    "4. Full Connection: นำ Flatten Layer มาสร้าง Model"
   ]
  },
  {
   "cell_type": "markdown",
   "metadata": {
    "id": "c1T-nm7QxoC9"
   },
   "source": [
    "# MNIST"
   ]
  },
  {
   "cell_type": "markdown",
   "metadata": {
    "id": "viqmTUYcxsCE"
   },
   "source": [
    "## IMPORT LIBRARY\n",
    "\n"
   ]
  },
  {
   "cell_type": "code",
   "execution_count": 2,
   "metadata": {
    "id": "-dSUxgVbxsPp"
   },
   "outputs": [
    {
     "ename": "ModuleNotFoundError",
     "evalue": "No module named 'cv2'",
     "output_type": "error",
     "traceback": [
      "\u001b[1;31m---------------------------------------------------------------------------\u001b[0m",
      "\u001b[1;31mModuleNotFoundError\u001b[0m                       Traceback (most recent call last)",
      "\u001b[1;32m~\\AppData\\Local\\Temp/ipykernel_23360/2991976052.py\u001b[0m in \u001b[0;36m<module>\u001b[1;34m\u001b[0m\n\u001b[0;32m      1\u001b[0m \u001b[1;32mfrom\u001b[0m \u001b[0mtensorflow\u001b[0m \u001b[1;32mimport\u001b[0m \u001b[0mkeras\u001b[0m\u001b[1;33m\u001b[0m\u001b[1;33m\u001b[0m\u001b[0m\n\u001b[0;32m      2\u001b[0m \u001b[1;32mimport\u001b[0m \u001b[0mmatplotlib\u001b[0m\u001b[1;33m.\u001b[0m\u001b[0mpyplot\u001b[0m \u001b[1;32mas\u001b[0m \u001b[0mplt\u001b[0m\u001b[1;33m\u001b[0m\u001b[1;33m\u001b[0m\u001b[0m\n\u001b[1;32m----> 3\u001b[1;33m \u001b[1;32mimport\u001b[0m \u001b[0mcv2\u001b[0m\u001b[1;33m\u001b[0m\u001b[1;33m\u001b[0m\u001b[0m\n\u001b[0m\u001b[0;32m      4\u001b[0m \u001b[1;32mfrom\u001b[0m \u001b[0msklearn\u001b[0m\u001b[1;33m.\u001b[0m\u001b[0mmetrics\u001b[0m \u001b[1;32mimport\u001b[0m \u001b[0maccuracy_score\u001b[0m\u001b[1;33m\u001b[0m\u001b[1;33m\u001b[0m\u001b[0m\n\u001b[0;32m      5\u001b[0m \u001b[1;32mimport\u001b[0m \u001b[0mnumpy\u001b[0m \u001b[1;32mas\u001b[0m \u001b[0mnp\u001b[0m\u001b[1;33m\u001b[0m\u001b[1;33m\u001b[0m\u001b[0m\n",
      "\u001b[1;31mModuleNotFoundError\u001b[0m: No module named 'cv2'"
     ]
    }
   ],
   "source": [
    "from tensorflow import keras\n",
    "import matplotlib.pyplot as plt\n",
    "import cv2\n",
    "from sklearn.metrics import accuracy_score\n",
    "import numpy as np"
   ]
  },
  {
   "cell_type": "markdown",
   "metadata": {
    "id": "weaTSWcqyRBU"
   },
   "source": [
    "## Preprocessing"
   ]
  },
  {
   "cell_type": "code",
   "execution_count": null,
   "metadata": {
    "colab": {
     "base_uri": "https://localhost:8080/"
    },
    "id": "80UMSPWqzFBw",
    "outputId": "1ca19860-30ef-44cc-f776-e935825af976"
   },
   "outputs": [
    {
     "name": "stdout",
     "output_type": "stream",
     "text": [
      "Downloading data from https://storage.googleapis.com/tensorflow/tf-keras-datasets/mnist.npz\n",
      "11493376/11490434 [==============================] - 0s 0us/step\n",
      "11501568/11490434 [==============================] - 0s 0us/step\n"
     ]
    }
   ],
   "source": [
    "mnist = keras.datasets.mnist\n",
    "(x_train, y_train), (x_test, y_test) = mnist.load_data()"
   ]
  },
  {
   "cell_type": "code",
   "execution_count": null,
   "metadata": {
    "id": "30rnl5PN0sPd"
   },
   "outputs": [],
   "source": [
    "np.set_printoptions(linewidth=200)\n",
    "plt.imshow(x_train[0], cmap='gray')\n",
    "print(x_train[0])"
   ]
  },
  {
   "cell_type": "code",
   "execution_count": null,
   "metadata": {
    "id": "UwU1m1BfzZad"
   },
   "outputs": [],
   "source": [
    "x_train = x_train.reshape(60000, 28, 28, 1)\n",
    "x_train = x_train / 255.0\n",
    "x_test = x_test.reshape(10000, 28, 28, 1)\n",
    "x_test = x_test / 255.0"
   ]
  },
  {
   "cell_type": "markdown",
   "metadata": {
    "id": "3Xte7y36yVN9"
   },
   "source": [
    "## Callback"
   ]
  },
  {
   "cell_type": "code",
   "execution_count": null,
   "metadata": {
    "id": "_shOQ2QayYpU"
   },
   "outputs": [],
   "source": [
    "class CallBack(keras.callbacks.Callback):\n",
    "  def on_epoch_end(self, epoch, log={}):\n",
    "    if log.get('accuracy') >= .998:\n",
    "      self.model.stop_training = True"
   ]
  },
  {
   "cell_type": "markdown",
   "metadata": {
    "id": "W1spOKBZ2JZj"
   },
   "source": [
    "## Modeling"
   ]
  },
  {
   "cell_type": "code",
   "execution_count": null,
   "metadata": {
    "id": "x8okqnTjzDHo"
   },
   "outputs": [],
   "source": [
    "model = keras.Sequential([\n",
    "                          keras.layers.Conv2D(64, (3,3), activation='relu', input_shape=(28, 28, 1)),\n",
    "                          keras.layers.MaxPool2D(2, 2),\n",
    "                          keras.layers.Flatten(),\n",
    "                          keras.layers.Dense(128, activation='relu'),\n",
    "                          keras.layers.Dense(10, activation='softmax')\n",
    "])"
   ]
  },
  {
   "cell_type": "code",
   "execution_count": null,
   "metadata": {
    "id": "zwb5nfiO224x"
   },
   "outputs": [],
   "source": [
    "model.compile(optimizer='adam', loss='sparse_categorical_crossentropy', metrics=['accuracy'])"
   ]
  },
  {
   "cell_type": "markdown",
   "metadata": {
    "id": "kGUCGgpV4kGY"
   },
   "source": [
    "## Training"
   ]
  },
  {
   "cell_type": "code",
   "execution_count": null,
   "metadata": {
    "id": "xXsGR2G13GGs"
   },
   "outputs": [],
   "source": [
    "callback = CallBack()\n",
    "model.fit(x_train, y_train, epochs=10, callbacks=[callback])"
   ]
  },
  {
   "cell_type": "markdown",
   "metadata": {
    "id": "ojlPF31-8iqz"
   },
   "source": [
    "## Prediction"
   ]
  },
  {
   "cell_type": "code",
   "execution_count": null,
   "metadata": {
    "id": "cthoDEz53WGf"
   },
   "outputs": [],
   "source": [
    "y_pred = model.predict(x_test)"
   ]
  },
  {
   "cell_type": "markdown",
   "metadata": {
    "id": "-s0oCZRU8lGa"
   },
   "source": [
    "## Scoring"
   ]
  },
  {
   "cell_type": "code",
   "execution_count": null,
   "metadata": {
    "id": "dJGoR0Vz5YjL"
   },
   "outputs": [],
   "source": [
    "def findPredictionVal(arr):\n",
    "  return np.argmax(arr, axis=0)"
   ]
  },
  {
   "cell_type": "code",
   "execution_count": null,
   "metadata": {
    "id": "4QNOmz4j8q8k"
   },
   "outputs": [],
   "source": [
    "y_pred_val = np.array([])\n",
    "\n",
    "for pred in y_pred:\n",
    "  y_pred_val = np.append(y_pred_val, findPredictionVal(pred))\n",
    "\n",
    "y_pred_val"
   ]
  },
  {
   "cell_type": "code",
   "execution_count": null,
   "metadata": {
    "id": "QcCzet6R8bpk"
   },
   "outputs": [],
   "source": [
    "accuracy_score(y_test, y_pred_val)"
   ]
  },
  {
   "cell_type": "markdown",
   "metadata": {
    "id": "BH-TQyOR-PSm"
   },
   "source": [
    "## Drawing & Predict"
   ]
  },
  {
   "cell_type": "code",
   "execution_count": null,
   "metadata": {
    "id": "qfdXcfCRo3i2"
   },
   "outputs": [],
   "source": [
    "from IPython.display import HTML, Image\n",
    "from google.colab.output import eval_js\n",
    "from base64 import b64decode\n",
    "\n",
    "canvas_html = \"\"\"\n",
    "<canvas width=%d height=%d></canvas>\n",
    "<button>Finish</button>\n",
    "<script>\n",
    "var canvas = document.querySelector('canvas')\n",
    "var ctx = canvas.getContext('2d')\n",
    "ctx.fillStyle = 'white'\n",
    "ctx.fillRect(0, 0, canvas.width, canvas.height)\n",
    "ctx.lineWidth = %d\n",
    "var button = document.querySelector('button')\n",
    "var mouse = {x: 0, y: 0}\n",
    "canvas.addEventListener('mousemove', function(e) {\n",
    "  mouse.x = e.pageX - this.offsetLeft\n",
    "  mouse.y = e.pageY - this.offsetTop\n",
    "})\n",
    "canvas.onmousedown = ()=>{\n",
    "  ctx.beginPath()\n",
    "  ctx.moveTo(mouse.x, mouse.y)\n",
    "  canvas.addEventListener('mousemove', onPaint)\n",
    "}\n",
    "canvas.onmouseup = ()=>{\n",
    "  canvas.removeEventListener('mousemove', onPaint)\n",
    "}\n",
    "var onPaint = ()=>{\n",
    "  ctx.lineTo(mouse.x, mouse.y)\n",
    "  ctx.stroke()\n",
    "}\n",
    "var data = new Promise(resolve=>{\n",
    "  button.onclick = ()=>{\n",
    "    resolve(canvas.toDataURL('image/png'))\n",
    "  }\n",
    "})\n",
    "</script>\n",
    "\"\"\"\n",
    "\n",
    "def draw(filename='drawing.png', w=400, h=200, line_width=1):\n",
    "  display(HTML(canvas_html % (w, h, line_width)))\n",
    "  data = eval_js(\"data\")\n",
    "  binary = b64decode(data.split(',')[1])\n",
    "  with open(filename, 'wb') as f:\n",
    "    f.write(binary)\n",
    "  return len(binary)"
   ]
  },
  {
   "cell_type": "code",
   "execution_count": null,
   "metadata": {
    "colab": {
     "background_save": true
    },
    "id": "eXnYLNdu-IdQ"
   },
   "outputs": [],
   "source": [
    "draw(filename = \"num.png\", w=400, h=400, line_width=25)"
   ]
  },
  {
   "cell_type": "code",
   "execution_count": null,
   "metadata": {
    "id": "4FF1VDf0mMHA"
   },
   "outputs": [],
   "source": [
    "img = cv2.imread('/content/num.png', 0)\n",
    "img = cv2.resize(img, (28, 28))\n",
    "\n",
    "np.set_printoptions(linewidth=200)\n",
    "img = 255 - img\n",
    "plt.imshow(img, cmap='gray')\n",
    "print(img)"
   ]
  },
  {
   "cell_type": "code",
   "execution_count": null,
   "metadata": {
    "id": "Mk6Ow8hPm20c"
   },
   "outputs": [],
   "source": [
    "pred = model.predict(img.reshape(1, 28, 28, 1))\n",
    "findPredictionVal(pred[0])"
   ]
  }
 ],
 "metadata": {
  "colab": {
   "collapsed_sections": [],
   "name": "TF-MNIST.ipynb",
   "provenance": []
  },
  "kernelspec": {
   "display_name": "Python 3 (ipykernel)",
   "language": "python",
   "name": "python3"
  },
  "language_info": {
   "codemirror_mode": {
    "name": "ipython",
    "version": 3
   },
   "file_extension": ".py",
   "mimetype": "text/x-python",
   "name": "python",
   "nbconvert_exporter": "python",
   "pygments_lexer": "ipython3",
   "version": "3.9.7"
  }
 },
 "nbformat": 4,
 "nbformat_minor": 1
}
